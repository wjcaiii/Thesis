{
 "cells": [
  {
   "cell_type": "markdown",
   "id": "d9c0bf59",
   "metadata": {},
   "source": [
    "### Whether the first-person narrative perspective improves readers' memory more effectively than the third-person narrative perspective?"
   ]
  },
  {
   "cell_type": "code",
   "execution_count": 7,
   "id": "30b0ec1c",
   "metadata": {},
   "outputs": [
    {
     "name": "stdout",
     "output_type": "stream",
     "text": [
      "The values:\n",
      "[3, 3, 13, 11]\n",
      "The contingency matrix\n",
      "[[ 3  3]\n",
      " [13 11]]\n"
     ]
    }
   ],
   "source": [
    "# Construct Contingency Matrix for mental imagery \n",
    "import numpy as np\n",
    "import pandas as pd\n",
    "\n",
    "\n",
    "# Hypothesis 1: The First-person perspective is more likely to trigger mental imagery than the third-person perspective\n",
    "nar_data=pd.read_csv('narrative perspective.csv', encoding='gbk')\n",
    "first_nar=nar_data[nar_data['Narrative_Perspective']=='F']\n",
    "first_nar_men=[item for item in first_nar['Mental_Imagery'] if item=='Y']\n",
    "first_nar_no_men=[item for item in first_nar['Mental_Imagery'] if item=='N']\n",
    "\n",
    "third_nar=nar_data[nar_data['Narrative_Perspective']=='T']\n",
    "third_nar_men=[item for item in third_nar['Mental_Imagery'] if item=='Y']\n",
    "third_nar_no_men=[item for item in third_nar['Mental_Imagery'] if item=='N']\n",
    "\n",
    "\n",
    "# We can store the observed frequencies in a list\n",
    "data4contingency = []\n",
    "data4contingency.append(len(first_nar_men))\n",
    "data4contingency.append(len(third_nar_men))\n",
    "data4contingency.append(len(first_nar_no_men))\n",
    "data4contingency.append(len(third_nar_no_men))\n",
    "\n",
    "print('The values:')\n",
    "print(data4contingency)\n",
    "\n",
    "# We transform the list in a contingency matrix\n",
    "data_cm = np.array(data4contingency).reshape(2,-1)\n",
    "\n",
    "print('The contingency matrix')\n",
    "print(data_cm)"
   ]
  },
  {
   "cell_type": "code",
   "execution_count": 8,
   "id": "aa8e202e",
   "metadata": {},
   "outputs": [
    {
     "name": "stdout",
     "output_type": "stream",
     "text": [
      "0.0 1.0\n",
      "These are the expected frequencies\n",
      "[[ 3.2  2.8]\n",
      " [12.8 11.2]]\n",
      "The observed differences are not statiscally significant - H1 is rejected\n"
     ]
    }
   ],
   "source": [
    "# Perform the Chi-square test\n",
    "from scipy.stats import chi2_contingency \n",
    "chi2, p_value, degree_of_freedom, expected_frequencies = chi2_contingency(data_cm)\n",
    "print(chi2, p_value)\n",
    "print('These are the expected frequencies')\n",
    "print(expected_frequencies)\n",
    "\n",
    "if p_value < 0.05:\n",
    "    print(\"The observed differences are statiscally significant - H0 is rejected\")\n",
    "else:\n",
    "    print(\"The observed differences are not statiscally significant - H1 is rejected\")"
   ]
  },
  {
   "cell_type": "markdown",
   "id": "1984e772",
   "metadata": {},
   "source": [
    "### Whether the first-person narrative perspective leads to more memories containing mental imagery compared to the third-person narrative perspective?"
   ]
  },
  {
   "cell_type": "code",
   "execution_count": 9,
   "id": "4caf17d0",
   "metadata": {},
   "outputs": [
    {
     "name": "stdout",
     "output_type": "stream",
     "text": [
      "The values:\n",
      "[11, 10, 5, 4]\n",
      "The contingency matrix\n",
      "[[11 10]\n",
      " [ 5  4]]\n"
     ]
    }
   ],
   "source": [
    "# Construct Contingency Matrix for emotional engagement\n",
    "import numpy as np\n",
    "import pandas as pd\n",
    "\n",
    "\n",
    "# Hypothesis 1: The First-person perspective is more likely to trigger emotions than the third-person perspective\n",
    "nar_data=pd.read_csv('C:/Users/14359/Desktop/narrative perspective.csv', encoding='gbk')\n",
    "first_nar=nar_data[nar_data['Narrative_Perspective']=='F']\n",
    "first_nar_emo=[item for item in first_nar['Emotional_Engagement'] if item=='Y']\n",
    "first_nar_no_emo=[item for item in first_nar['Emotional_Engagement'] if item=='N']\n",
    "\n",
    "third_nar=nar_data[nar_data['Narrative_Perspective']=='T']\n",
    "third_nar_emo=[item for item in third_nar['Emotional_Engagement'] if item=='Y']\n",
    "third_nar_no_emo=[item for item in third_nar['Emotional_Engagement'] if item=='N']\n",
    "\n",
    "\n",
    "# We can store the observed frequencies in a list\n",
    "data4contingency = []\n",
    "data4contingency.append(len(first_nar_emo))\n",
    "data4contingency.append(len(third_nar_emo))\n",
    "data4contingency.append(len(first_nar_no_emo))\n",
    "data4contingency.append(len(third_nar_no_emo))\n",
    "\n",
    "print('The values:')\n",
    "print(data4contingency)\n",
    "\n",
    "# We transform the list in a contingency matrix\n",
    "data_cm = np.array(data4contingency).reshape(2,-1)\n",
    "\n",
    "print('The contingency matrix')\n",
    "print(data_cm)"
   ]
  },
  {
   "cell_type": "code",
   "execution_count": 10,
   "id": "b90d7d0f",
   "metadata": {},
   "outputs": [
    {
     "name": "stdout",
     "output_type": "stream",
     "text": [
      "0.0 1.0\n",
      "These are the expected frequencies\n",
      "[[11.2  9.8]\n",
      " [ 4.8  4.2]]\n",
      "The observed differences are not statiscally significant - H1 is rejected\n"
     ]
    }
   ],
   "source": [
    "# Perform the Chi-square test\n",
    "from scipy.stats import chi2_contingency \n",
    "chi2, p_value, degree_of_freedom, expected_frequencies = chi2_contingency(data_cm)\n",
    "print(chi2, p_value)\n",
    "print('These are the expected frequencies')\n",
    "print(expected_frequencies)\n",
    "\n",
    "if p_value < 0.05:\n",
    "    print(\"The observed differences are statiscally significant - H0 is rejected\")\n",
    "else:\n",
    "    print(\"The observed differences are not statiscally significant - H1 is rejected\")"
   ]
  },
  {
   "cell_type": "markdown",
   "id": "091bd813",
   "metadata": {},
   "source": [
    "### Whether the first-person narrative perspective triggers emotional memories compared to the third-person narrative perspective?"
   ]
  },
  {
   "cell_type": "code",
   "execution_count": 11,
   "id": "5cc5ffbd",
   "metadata": {},
   "outputs": [
    {
     "name": "stdout",
     "output_type": "stream",
     "text": [
      "The values:\n",
      "[12, 10, 4, 4]\n",
      "The contingency matrix\n",
      "[[12 10]\n",
      " [ 4  4]]\n"
     ]
    }
   ],
   "source": [
    "# Construct Contingency Matrix for recollections of contents\n",
    "import numpy as np\n",
    "import pandas as pd\n",
    "\n",
    "\n",
    "# Hypothesis 1: The First-person perspective is more likely to make readers remember contents than the third-person perspective\n",
    "nar_data=pd.read_csv('C:/Users/14359/Desktop/narrative perspective.csv', encoding='gbk')\n",
    "first_nar=nar_data[nar_data['Narrative_Perspective']=='F']\n",
    "first_nar_con=[item for item in first_nar['REC_CONTENT'] if item=='Y']\n",
    "first_nar_no_con=[item for item in first_nar['REC_CONTENT'] if item=='N']\n",
    "\n",
    "third_nar=nar_data[nar_data['Narrative_Perspective']=='T']\n",
    "third_nar_con=[item for item in third_nar['REC_CONTENT'] if item=='Y']\n",
    "third_nar_no_con=[item for item in third_nar['REC_CONTENT'] if item=='N']\n",
    "\n",
    "\n",
    "# We can store the observed frequencies in a list\n",
    "data4contingency = []\n",
    "data4contingency.append(len(first_nar_con))\n",
    "data4contingency.append(len(third_nar_con))\n",
    "data4contingency.append(len(first_nar_no_con))\n",
    "data4contingency.append(len(third_nar_no_con))\n",
    "\n",
    "print('The values:')\n",
    "print(data4contingency)\n",
    "\n",
    "# We transform the list in a contingency matrix\n",
    "data_cm = np.array(data4contingency).reshape(2,-1)\n",
    "\n",
    "print('The contingency matrix')\n",
    "print(data_cm)"
   ]
  },
  {
   "cell_type": "code",
   "execution_count": 12,
   "id": "7cffaaf2",
   "metadata": {},
   "outputs": [
    {
     "name": "stdout",
     "output_type": "stream",
     "text": [
      "0.0 1.0\n",
      "These are the expected frequencies\n",
      "[[11.73333333 10.26666667]\n",
      " [ 4.26666667  3.73333333]]\n",
      "The observed differences are not statiscally significant - H1 is rejected\n"
     ]
    }
   ],
   "source": [
    "# Perform the Chi-square test\n",
    "from scipy.stats import chi2_contingency \n",
    "chi2, p_value, degree_of_freedom, expected_frequencies = chi2_contingency(data_cm)\n",
    "print(chi2, p_value)\n",
    "print('These are the expected frequencies')\n",
    "print(expected_frequencies)\n",
    "\n",
    "if p_value < 0.05:\n",
    "    print(\"The observed differences are statiscally significant - H0 is rejected\")\n",
    "else:\n",
    "    print(\"The observed differences are not statiscally significant - H1 is rejected\")"
   ]
  }
 ],
 "metadata": {
  "kernelspec": {
   "display_name": "Python 3 (ipykernel)",
   "language": "python",
   "name": "python3"
  },
  "language_info": {
   "codemirror_mode": {
    "name": "ipython",
    "version": 3
   },
   "file_extension": ".py",
   "mimetype": "text/x-python",
   "name": "python",
   "nbconvert_exporter": "python",
   "pygments_lexer": "ipython3",
   "version": "3.11.4"
  }
 },
 "nbformat": 4,
 "nbformat_minor": 5
}
